{
 "cells": [
  {
   "cell_type": "code",
   "execution_count": 1,
   "metadata": {},
   "outputs": [
    {
     "name": "stdout",
     "output_type": "stream",
     "text": [
      "Skipping line due to incorrect format: \n",
      "\n",
      "Iris Data Loaded\n",
      "Sample pattern: [7.7 3.8 6.7 2.2]\n",
      "Class of the above pattern: Iris-virginica\n"
     ]
    }
   ],
   "source": [
    "import numpy as np\n",
    "import random\n",
    "\n",
    "patterns = []\n",
    "classes = []\n",
    "\n",
    "filename = 'Iris_data.txt'\n",
    "file = open(filename, 'r')\n",
    "\n",
    "for line in file.readlines():\n",
    "    row = line.strip().split(',')\n",
    "    if len(row) == 5:\n",
    "        patterns.append(row[0:4])\n",
    "        classes.append(row[4])\n",
    "    else:\n",
    "        print(f\"Skipping line due to incorrect format: {line}\")\n",
    "print(\"Iris Data Loaded\")\n",
    "file.close()\n",
    "\n",
    "patterns = np.asarray(patterns, dtype=np.float32)\n",
    "\n",
    "sample_no = random.randint(0, len(patterns) - 1)\n",
    "\n",
    "print(\"Sample pattern: \" + str(patterns[sample_no]))\n",
    "print(\"Class of the above pattern: \" + str(classes[sample_no]))"
   ]
  },
  {
   "cell_type": "code",
   "execution_count": 2,
   "metadata": {},
   "outputs": [
    {
     "name": "stdout",
     "output_type": "stream",
     "text": [
      "Heuristically computed appropriate no. of map units: 304\n"
     ]
    }
   ],
   "source": [
    "def mapunits(input_len,size='small'):\n",
    "    \n",
    "    heuristic_map_units = 5*input_len**0.54321\n",
    "     \n",
    "    if size == 'big':\n",
    "        heuristic_map_units = 4*(heuristic_map_units)\n",
    "    else:\n",
    "        heuristic_map_units = 0.25*(heuristic_map_units)\n",
    "        \n",
    "    return heuristic_map_units\n",
    "        \n",
    "        \n",
    "map_units = mapunits(len(patterns),size='big')\n",
    "print(\"Heuristically computed appropriate no. of map units: \"+str(int(map_units)))"
   ]
  },
  {
   "cell_type": "code",
   "execution_count": 3,
   "metadata": {},
   "outputs": [
    {
     "name": "stdout",
     "output_type": "stream",
     "text": [
      "Lower error found: 0.7626320615107757 at epoch: 0\n",
      "\tLearning rate: 0.1\n",
      "\tNeighbourhood radius: 4.5\n",
      "Lower error found: 0.6510497439112304 at epoch: 1\n",
      "\tLearning rate: 0.0998\n",
      "\tNeighbourhood radius: 4.491008994002999\n",
      "Lower error found: 0.38253173325144313 at epoch: 7\n",
      "\tLearning rate: 0.09860000000000001\n",
      "\tNeighbourhood radius: 4.437438949182878\n",
      "Lower error found: 0.32761633922396294 at epoch: 18\n",
      "\tLearning rate: 0.0964\n",
      "\tNeighbourhood radius: 4.340881320674054\n",
      "Lower error found: 0.21711294285718066 at epoch: 32\n",
      "\tLearning rate: 0.0936\n",
      "\tNeighbourhood radius: 4.221022497888282\n",
      "Lower error found: 0.2163533671859945 at epoch: 79\n",
      "\tLearning rate: 0.0842\n",
      "\tNeighbourhood radius: 3.8423240188581675\n",
      "Lower error found: 0.1300643366671196 at epoch: 93\n",
      "\tLearning rate: 0.08140000000000001\n",
      "\tNeighbourhood radius: 3.7362311774186967\n",
      "Lower error found: 0.09720868441255977 at epoch: 208\n",
      "\tLearning rate: 0.05840000000000001\n",
      "\tNeighbourhood radius: 2.968561217179751\n",
      "Lower error found: 0.06827738880247854 at epoch: 251\n",
      "\tLearning rate: 0.049800000000000004\n",
      "\tNeighbourhood radius: 2.7239346479080093\n",
      "Lower error found: 0.06587230111386483 at epoch: 310\n",
      "\tLearning rate: 0.038000000000000006\n",
      "\tNeighbourhood radius: 2.4207499691760352\n",
      "Lower error found: 0.06143102591426421 at epoch: 314\n",
      "\tLearning rate: 0.037200000000000004\n",
      "\tNeighbourhood radius: 2.401461227263458\n",
      "Lower error found: 0.04641564220832339 at epoch: 325\n",
      "\tLearning rate: 0.034999999999999996\n",
      "\tNeighbourhood radius: 2.349205995424572\n",
      "Lower error found: 0.040984448820683535 at epoch: 357\n",
      "\tLearning rate: 0.028600000000000004\n",
      "\tNeighbourhood radius: 2.203566968635813\n",
      "Lower error found: 0.038066854240855104 at epoch: 374\n",
      "\tLearning rate: 0.0252\n",
      "\tNeighbourhood radius: 2.129905040443827\n",
      "Lower error found: 0.03142025383841935 at epoch: 382\n",
      "\tLearning rate: 0.0236\n",
      "\tNeighbourhood radius: 2.096097739424227\n",
      "Lower error found: 0.03065785598935692 at epoch: 406\n",
      "\tLearning rate: 0.018799999999999997\n",
      "\tNeighbourhood radius: 1.9978615764620102\n",
      "Lower error found: 0.03028039462091357 at epoch: 408\n",
      "\tLearning rate: 0.018400000000000007\n",
      "\tNeighbourhood radius: 1.989886091759544\n",
      "Lower error found: 0.0161472243664674 at epoch: 413\n",
      "\tLearning rate: 0.017400000000000006\n",
      "\tNeighbourhood radius: 1.9700863943263185\n",
      "Lower error found: 0.007663043087459689 at epoch: 425\n",
      "\tLearning rate: 0.015000000000000003\n",
      "\tNeighbourhood radius: 1.9233671937692702\n",
      "Lower error found: 0.0063109916766399205 at epoch: 445\n",
      "\tLearning rate: 0.011\n",
      "\tNeighbourhood radius: 1.8479508873855548\n",
      "Lower error found: 0.005918410111201863 at epoch: 455\n",
      "\tLearning rate: 0.008999999999999998\n",
      "\tNeighbourhood radius: 1.8113590081513617\n",
      "Lower error found: 0.004385094578552516 at epoch: 474\n",
      "\tLearning rate: 0.005200000000000005\n",
      "\tNeighbourhood radius: 1.743818757747164\n",
      "Lower error found: 0.003857841198118401 at epoch: 477\n",
      "\tLearning rate: 0.004600000000000004\n",
      "\tNeighbourhood radius: 1.7333871712548985\n",
      "Lower error found: 0.003157625442676662 at epoch: 478\n",
      "\tLearning rate: 0.004400000000000004\n",
      "\tNeighbourhood radius: 1.7299238613767036\n",
      "Lower error found: 0.0030792876043020914 at epoch: 479\n",
      "\tLearning rate: 0.004200000000000004\n",
      "\tNeighbourhood radius: 1.7264674711962604\n",
      "Lower error found: 0.0009669176588811728 at epoch: 485\n",
      "\tLearning rate: 0.0030000000000000027\n",
      "\tNeighbourhood radius: 1.7058736714652947\n"
     ]
    }
   ],
   "source": [
    "import math\n",
    "import matplotlib.pyplot as plt\n",
    "%matplotlib inline\n",
    "\n",
    "def Eucli_dists(MAP,x):\n",
    "    x = x.reshape((1,1,-1))\n",
    "    Eucli_MAP = MAP - x\n",
    "    Eucli_MAP = Eucli_MAP**2\n",
    "    Eucli_MAP = np.sqrt(np.sum(Eucli_MAP,2))\n",
    "    return Eucli_MAP\n",
    "\n",
    "input_dimensions = 4\n",
    "\n",
    "map_width = 9\n",
    "map_height = 5\n",
    "MAP = np.random.uniform(size=(map_height,map_width,input_dimensions))\n",
    "prev_MAP = np.zeros((map_height,map_width,input_dimensions))\n",
    "\n",
    "radius0 = max(map_width,map_height)/2\n",
    "learning_rate0 = 0.1\n",
    "\n",
    "coordinate_map = np.zeros([map_height,map_width,2],dtype=np.int32)\n",
    "\n",
    "for i in range(0,map_height):\n",
    "    for j in range(0,map_width):\n",
    "        coordinate_map[i][j] = [i,j]\n",
    "\n",
    "epochs = 500\n",
    "radius=radius0\n",
    "learning_rate = learning_rate0\n",
    "max_iterations = len(patterns)+1\n",
    "too_many_iterations = 10*max_iterations\n",
    "\n",
    "convergence = [1]\n",
    "\n",
    "timestep=1\n",
    "e=0.001 \n",
    "flag=0\n",
    "\n",
    "epoch=0\n",
    "while epoch<epochs:\n",
    "    \n",
    "    shuffle = np.random.randint(len(patterns), size=len(patterns))\n",
    "    for i in range(len(patterns)):\n",
    "        \n",
    "        J = np.linalg.norm(MAP - prev_MAP)\n",
    "\n",
    "        if  J <= e:\n",
    "            flag=1\n",
    "            break\n",
    "            \n",
    "        else:\n",
    "            \n",
    "            pattern = patterns[shuffle[i]]\n",
    "            pattern_ary = np.tile(pattern, (map_height, map_width, 1))\n",
    "            Eucli_MAP = np.linalg.norm(pattern_ary - MAP, axis=2)\n",
    "            \n",
    "\n",
    "            BMU = np.unravel_index(np.argmin(Eucli_MAP, axis=None), Eucli_MAP.shape)\n",
    "\n",
    "            prev_MAP = np.copy(MAP)\n",
    "             \n",
    "            for i in range(map_height):\n",
    "                for j in range(map_width):\n",
    "                    distance = np.linalg.norm([i - BMU[0], j - BMU[1]])\n",
    "                    if distance <= radius:\n",
    "                        MAP[i][j] = MAP[i][j] + learning_rate*(pattern-MAP[i][j])\n",
    "            \n",
    "            learning_rate = learning_rate0*(1-(epoch/epochs))\n",
    "            radius = radius0*math.exp(-epoch/epochs)\n",
    "            \n",
    "            timestep+=1\n",
    "    \n",
    "    if J < min(convergence):\n",
    "        print('Lower error found: %s' %str(J) + ' at epoch: %s' % str(epoch))\n",
    "        print('\\tLearning rate: ' + str(learning_rate))\n",
    "        print('\\tNeighbourhood radius: ' + str(radius))\n",
    "        MAP_final = MAP\n",
    "    convergence.append(J)\n",
    "    \n",
    "    if flag==1:\n",
    "        break\n",
    "    epoch+=1"
   ]
  },
  {
   "cell_type": "code",
   "execution_count": 4,
   "metadata": {},
   "outputs": [
    {
     "data": {
      "image/png": "[encoded data removed]",
      "text/plain": [
       "<Figure size 640x480 with 1 Axes>"
      ]
     },
     "metadata": {},
     "output_type": "display_data"
    },
    {
     "name": "stdout",
     "output_type": "stream",
     "text": [
      "Number of timesteps: 72761\n",
      "Final error: 0.0009669176588811728\n"
     ]
    }
   ],
   "source": [
    "plt.plot(convergence)\n",
    "plt.ylabel('error')\n",
    "plt.xlabel('epoch')\n",
    "plt.grid(True)\n",
    "plt.yscale('log')\n",
    "plt.show()\n",
    "print('Number of timesteps: ' + str(timestep))\n",
    "print('Final error: ' + str(J))"
   ]
  },
  {
   "cell_type": "code",
   "execution_count": 7,
   "metadata": {},
   "outputs": [
    {
     "name": "stdout",
     "output_type": "stream",
     "text": [
      "Red = Iris-Setosa\n",
      "Blue = Iris-Virginica\n",
      "Green = Iris-Versicolor\n"
     ]
    },
    {
     "data": {
      "image/png": "[encoded data removed]",
      "text/plain": [
       "<Figure size 640x480 with 1 Axes>"
      ]
     },
     "metadata": {},
     "output_type": "display_data"
    }
   ],
   "source": [
    "import numpy as np\n",
    "import matplotlib.pyplot as plt\n",
    "from PIL import Image \n",
    "\n",
    "result_map = np.zeros([map_height, map_width, 3], dtype=np.float32)\n",
    "\n",
    "for i, pattern in enumerate(patterns):\n",
    "    pattern_ary = np.tile(pattern, (map_height, map_width, 1))\n",
    "    Eucli_MAP = np.linalg.norm(pattern_ary - MAP_final, axis=2)\n",
    "\n",
    "    BMU = np.unravel_index(np.argmin(Eucli_MAP, axis=None), Eucli_MAP.shape)\n",
    "    \n",
    "    x, y = BMU\n",
    "    \n",
    "    if classes[i] == 'Iris-setosa':\n",
    "        if result_map[x][y][0] <= 0.5:\n",
    "            result_map[x][y] += np.asarray([0.5, 0, 0])\n",
    "    elif classes[i] == 'Iris-virginica':\n",
    "        if result_map[x][y][1] <= 0.5:\n",
    "            result_map[x][y] += np.asarray([0, 0.5, 0])\n",
    "    elif classes[i] == 'Iris-versicolor':\n",
    "        if result_map[x][y][2] <= 0.5:\n",
    "            result_map[x][y] += np.asarray([0, 0, 0.5])\n",
    "\n",
    "result_map = np.flip(result_map, 0)\n",
    "\n",
    "print(\"Red = Iris-Setosa\")\n",
    "print(\"Blue = Iris-Virginica\")\n",
    "print(\"Green = Iris-Versicolor\")\n",
    "\n",
    "plt.imshow(result_map, interpolation='nearest')\n",
    "plt.show()\n"
   ]
  }
 ],
 "metadata": {
  "kernelspec": {
   "display_name": "Python 3",
   "language": "python",
   "name": "python3"
  },
  "language_info": {
   "codemirror_mode": {
    "name": "ipython",
    "version": 3
   },
   "file_extension": ".py",
   "mimetype": "text/x-python",
   "name": "python",
   "nbconvert_exporter": "python",
   "pygments_lexer": "ipython3",
   "version": "3.10.12"
  }
 },
 "nbformat": 4,
 "nbformat_minor": 2
}
